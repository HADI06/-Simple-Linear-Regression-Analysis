{
  "cells": [
    {
      "cell_type": "markdown",
      "id": "5d09887d",
      "metadata": {
        "id": "5d09887d"
      },
      "source": [
        "# Simple Linear Regression"
      ]
    },
    {
      "cell_type": "code",
      "execution_count": null,
      "id": "04851620",
      "metadata": {
        "id": "04851620"
      },
      "outputs": [],
      "source": [
        "import numpy as np\n",
        "import pandas as pd\n",
        "\n",
        "import matplotlib.pyplot as plt\n",
        "%matplotlib inline\n",
        "\n",
        "import seaborn as sns\n",
        "sns.set_theme()\n",
        "sns.set_style('whitegrid')\n",
        "sns.set_palette(['#FF5F5D', '#3F7C85', '#00CCBF', '#72F2EB', '#747E7E'])\n",
        "\n",
        "# import warnings\n",
        "# warnings.filterwarnings('ignore')"
      ]
    },
    {
      "cell_type": "markdown",
      "id": "e7f31945",
      "metadata": {
        "id": "e7f31945"
      },
      "source": [
        "## Step 1: Data Preparation"
      ]
    },
    {
      "cell_type": "code",
      "execution_count": null,
      "id": "0f4166a5",
      "metadata": {
        "id": "0f4166a5"
      },
      "outputs": [],
      "source": [
        "df = pd.read_csv('datasets/studentscores.csv')"
      ]
    },
    {
      "cell_type": "code",
      "execution_count": null,
      "id": "186a2484",
      "metadata": {
        "scrolled": true,
        "id": "186a2484",
        "outputId": "b02ce022-be94-43bc-ac16-15dcfa4233d7"
      },
      "outputs": [
        {
          "name": "stdout",
          "output_type": "stream",
          "text": [
            "<class 'pandas.core.frame.DataFrame'>\n",
            "RangeIndex: 25 entries, 0 to 24\n",
            "Data columns (total 2 columns):\n",
            " #   Column  Non-Null Count  Dtype  \n",
            "---  ------  --------------  -----  \n",
            " 0   Hours   25 non-null     float64\n",
            " 1   Scores  25 non-null     int64  \n",
            "dtypes: float64(1), int64(1)\n",
            "memory usage: 532.0 bytes\n"
          ]
        }
      ],
      "source": [
        "df.info()"
      ]
    },
    {
      "cell_type": "code",
      "execution_count": null,
      "id": "c1f80f9b",
      "metadata": {
        "id": "c1f80f9b",
        "outputId": "e153aa91-67bc-49f0-c602-601d820e1768"
      },
      "outputs": [
        {
          "data": {
            "text/html": [
              "<div>\n",
              "<style scoped>\n",
              "    .dataframe tbody tr th:only-of-type {\n",
              "        vertical-align: middle;\n",
              "    }\n",
              "\n",
              "    .dataframe tbody tr th {\n",
              "        vertical-align: top;\n",
              "    }\n",
              "\n",
              "    .dataframe thead th {\n",
              "        text-align: right;\n",
              "    }\n",
              "</style>\n",
              "<table border=\"1\" class=\"dataframe\">\n",
              "  <thead>\n",
              "    <tr style=\"text-align: right;\">\n",
              "      <th></th>\n",
              "      <th>Hours</th>\n",
              "      <th>Scores</th>\n",
              "    </tr>\n",
              "  </thead>\n",
              "  <tbody>\n",
              "    <tr>\n",
              "      <th>0</th>\n",
              "      <td>2.5</td>\n",
              "      <td>21</td>\n",
              "    </tr>\n",
              "    <tr>\n",
              "      <th>1</th>\n",
              "      <td>5.1</td>\n",
              "      <td>47</td>\n",
              "    </tr>\n",
              "    <tr>\n",
              "      <th>2</th>\n",
              "      <td>3.2</td>\n",
              "      <td>27</td>\n",
              "    </tr>\n",
              "    <tr>\n",
              "      <th>3</th>\n",
              "      <td>8.5</td>\n",
              "      <td>75</td>\n",
              "    </tr>\n",
              "    <tr>\n",
              "      <th>4</th>\n",
              "      <td>3.5</td>\n",
              "      <td>30</td>\n",
              "    </tr>\n",
              "  </tbody>\n",
              "</table>\n",
              "</div>"
            ],
            "text/plain": [
              "   Hours  Scores\n",
              "0    2.5      21\n",
              "1    5.1      47\n",
              "2    3.2      27\n",
              "3    8.5      75\n",
              "4    3.5      30"
            ]
          },
          "execution_count": 4,
          "metadata": {},
          "output_type": "execute_result"
        }
      ],
      "source": [
        "df.head()"
      ]
    },
    {
      "cell_type": "code",
      "execution_count": null,
      "id": "ef678a4b",
      "metadata": {
        "scrolled": true,
        "id": "ef678a4b",
        "outputId": "0f1a9860-953a-4d74-c6fe-0637e7e82203"
      },
      "outputs": [
        {
          "data": {
            "image/png": "[encoded data removed]",
            "text/plain": [
              "<Figure size 640x480 with 1 Axes>"
            ]
          },
          "metadata": {},
          "output_type": "display_data"
        }
      ],
      "source": [
        "sns.scatterplot(data=df, x=\"Hours\", y=\"Scores\");"
      ]
    },
    {
      "cell_type": "code",
      "execution_count": null,
      "id": "23e09b55",
      "metadata": {
        "id": "23e09b55"
      },
      "outputs": [],
      "source": [
        "X = df.iloc[ : , : 1 ].values\n",
        "Y = df.iloc[ : , 1 ].values"
      ]
    },
    {
      "cell_type": "code",
      "execution_count": null,
      "id": "a9541b8f",
      "metadata": {
        "scrolled": true,
        "id": "a9541b8f",
        "outputId": "ec5d86aa-471f-41db-fb0d-45d507aa7c93"
      },
      "outputs": [
        {
          "name": "stdout",
          "output_type": "stream",
          "text": [
            "X.shape=(25, 1)\n",
            "Y.shape=(25,)\n"
          ]
        }
      ],
      "source": [
        "print(f\"{X.shape=}\")\n",
        "print(f\"{Y.shape=}\")"
      ]
    },
    {
      "cell_type": "code",
      "execution_count": null,
      "id": "f0286957",
      "metadata": {
        "id": "f0286957"
      },
      "outputs": [],
      "source": [
        "from sklearn.model_selection import train_test_split\n",
        "\n",
        "X_train, X_test, Y_train, Y_test = train_test_split( X, Y, test_size = 1/4, random_state = 0)"
      ]
    },
    {
      "cell_type": "code",
      "execution_count": null,
      "id": "b4552cb5",
      "metadata": {
        "id": "b4552cb5",
        "outputId": "3c5417e3-78a1-4679-a6e9-3cfeb8c60406"
      },
      "outputs": [
        {
          "name": "stdout",
          "output_type": "stream",
          "text": [
            "X_train.shape=(18, 1)\n",
            "Y_train.shape=(18,)\n",
            "X_test.shape=(7, 1)\n",
            "Y_test.shape=(7,)\n"
          ]
        }
      ],
      "source": [
        "print(f\"{X_train.shape=}\")\n",
        "print(f\"{Y_train.shape=}\")\n",
        "print(f\"{X_test.shape=}\")\n",
        "print(f\"{Y_test.shape=}\")"
      ]
    },
    {
      "cell_type": "markdown",
      "id": "0e6b99d1",
      "metadata": {
        "id": "0e6b99d1"
      },
      "source": [
        "## Step 2: Fitting Simple Linear Regression Model to the training set"
      ]
    },
    {
      "cell_type": "code",
      "execution_count": null,
      "id": "354866e6",
      "metadata": {
        "id": "354866e6"
      },
      "outputs": [],
      "source": [
        "from sklearn.linear_model import LinearRegression\n",
        "\n",
        "regressor = LinearRegression()"
      ]
    },
    {
      "cell_type": "code",
      "execution_count": null,
      "id": "1dc2433e",
      "metadata": {
        "id": "1dc2433e"
      },
      "outputs": [],
      "source": [
        "regressor = regressor.fit(X_train, Y_train)"
      ]
    },
    {
      "cell_type": "code",
      "execution_count": null,
      "id": "8d5258d5",
      "metadata": {
        "id": "8d5258d5",
        "outputId": "e98e190f-70fd-4ac4-ff21-9a99d5a845dd"
      },
      "outputs": [
        {
          "name": "stdout",
          "output_type": "stream",
          "text": [
            "regressor.intercept_=1.932204253151646\n",
            "regressor.coef_=array([9.94167834])\n"
          ]
        }
      ],
      "source": [
        "print(f\"{regressor.intercept_=}\")\n",
        "print(f\"{regressor.coef_=}\")"
      ]
    },
    {
      "cell_type": "code",
      "execution_count": null,
      "id": "64dab1e7",
      "metadata": {
        "id": "64dab1e7"
      },
      "outputs": [],
      "source": [
        "xs = np.linspace(-1, X_train.max()+1, 2)"
      ]
    },
    {
      "cell_type": "code",
      "execution_count": null,
      "id": "8c99769e-34f7-412c-a1f2-f69a36fb00d3",
      "metadata": {
        "id": "8c99769e-34f7-412c-a1f2-f69a36fb00d3",
        "outputId": "25e1fd1d-a80d-45fa-afe4-83902bd9d104"
      },
      "outputs": [
        {
          "data": {
            "text/plain": [
              "array([-1. , 10.2])"
            ]
          },
          "execution_count": 17,
          "metadata": {},
          "output_type": "execute_result"
        }
      ],
      "source": [
        "xs"
      ]
    },
    {
      "cell_type": "code",
      "execution_count": null,
      "id": "24dee1c2",
      "metadata": {
        "scrolled": true,
        "id": "24dee1c2"
      },
      "outputs": [],
      "source": [
        "ys = regressor.coef_ * xs + regressor.intercept_"
      ]
    },
    {
      "cell_type": "code",
      "execution_count": null,
      "id": "56a4cddd-8974-4d2d-ba60-d608bb864449",
      "metadata": {
        "id": "56a4cddd-8974-4d2d-ba60-d608bb864449",
        "outputId": "273500de-5ac9-41ef-ebca-db17d91027ef"
      },
      "outputs": [
        {
          "data": {
            "text/plain": [
              "array([ -8.00947409, 103.33732332])"
            ]
          },
          "execution_count": 19,
          "metadata": {},
          "output_type": "execute_result"
        }
      ],
      "source": [
        "ys"
      ]
    },
    {
      "cell_type": "code",
      "execution_count": null,
      "id": "a615d756",
      "metadata": {
        "id": "a615d756"
      },
      "outputs": [],
      "source": [
        "# X.squeeze()"
      ]
    },
    {
      "cell_type": "code",
      "execution_count": null,
      "id": "8f37f5fe",
      "metadata": {
        "id": "8f37f5fe",
        "outputId": "9876cf68-c207-4119-b1b9-27ee8abd4eea"
      },
      "outputs": [
        {
          "data": {
            "text/plain": [
              "<Axes: >"
            ]
          },
          "execution_count": 20,
          "metadata": {},
          "output_type": "execute_result"
        },
        {
          "data": {
            "image/png": "[encoded data removed]",
            "text/plain": [
              "<Figure size 640x480 with 1 Axes>"
            ]
          },
          "metadata": {},
          "output_type": "display_data"
        }
      ],
      "source": [
        "fig, ax = plt.subplots()\n",
        "sns.scatterplot(x=X_train.squeeze(), y=Y_train, ax=ax)\n",
        "sns.lineplot(x=xs, y=ys, color='#BBB', ax=ax)"
      ]
    },
    {
      "cell_type": "markdown",
      "id": "6c4c85be",
      "metadata": {
        "id": "6c4c85be"
      },
      "source": [
        "## Step 3: Predecting the Result"
      ]
    },
    {
      "cell_type": "code",
      "execution_count": null,
      "id": "7d307943",
      "metadata": {
        "id": "7d307943"
      },
      "outputs": [],
      "source": [
        "Y_pred = regressor.predict(X_test)"
      ]
    },
    {
      "cell_type": "code",
      "execution_count": null,
      "id": "78e52c64",
      "metadata": {
        "id": "78e52c64",
        "outputId": "8ec5e260-099b-47e6-a6ef-f182092c0d59"
      },
      "outputs": [
        {
          "data": {
            "text/plain": [
              "array([16.84472176, 33.74557494, 75.50062397, 26.7864001 , 60.58810646,\n",
              "       39.71058194, 20.8213931 ])"
            ]
          },
          "execution_count": 22,
          "metadata": {},
          "output_type": "execute_result"
        }
      ],
      "source": [
        "Y_pred"
      ]
    },
    {
      "cell_type": "code",
      "execution_count": null,
      "id": "8be4db7e",
      "metadata": {
        "id": "8be4db7e",
        "outputId": "9221b09e-f9f0-4def-e483-ece2dbfcbec9"
      },
      "outputs": [
        {
          "data": {
            "text/plain": [
              "array([[1.5],\n",
              "       [3.2],\n",
              "       [7.4],\n",
              "       [2.5],\n",
              "       [5.9],\n",
              "       [3.8],\n",
              "       [1.9]])"
            ]
          },
          "execution_count": 23,
          "metadata": {},
          "output_type": "execute_result"
        }
      ],
      "source": [
        "X_test"
      ]
    },
    {
      "cell_type": "code",
      "execution_count": null,
      "id": "9727d247",
      "metadata": {
        "id": "9727d247",
        "outputId": "1669563a-8f6e-4acd-89c0-5bf036c4cce1"
      },
      "outputs": [
        {
          "data": {
            "text/plain": [
              "array([67.54728129])"
            ]
          },
          "execution_count": 24,
          "metadata": {},
          "output_type": "execute_result"
        }
      ],
      "source": [
        "regressor.predict([[6.6]])"
      ]
    },
    {
      "cell_type": "code",
      "execution_count": null,
      "id": "f7a5ab1c",
      "metadata": {
        "id": "f7a5ab1c"
      },
      "outputs": [],
      "source": [
        "X_t = np.squeeze(X_test)"
      ]
    },
    {
      "cell_type": "code",
      "execution_count": null,
      "id": "7623dcfc",
      "metadata": {
        "scrolled": true,
        "id": "7623dcfc"
      },
      "outputs": [],
      "source": [
        "# np.concatenate((X_test.squeeze(), Y_pred, Y_test)).reshape(3,7).T"
      ]
    },
    {
      "cell_type": "code",
      "execution_count": null,
      "id": "c998b7e4",
      "metadata": {
        "id": "c998b7e4"
      },
      "outputs": [],
      "source": [
        "P = pd.DataFrame.from_dict({'X':X_test.squeeze(), 'Yhat':Y_pred, 'Y':Y_test})"
      ]
    },
    {
      "cell_type": "code",
      "execution_count": null,
      "id": "763327f5",
      "metadata": {
        "id": "763327f5",
        "outputId": "d198c4f3-f28d-4bf3-ec6a-dd074c9397bd"
      },
      "outputs": [
        {
          "data": {
            "text/html": [
              "<div>\n",
              "<style scoped>\n",
              "    .dataframe tbody tr th:only-of-type {\n",
              "        vertical-align: middle;\n",
              "    }\n",
              "\n",
              "    .dataframe tbody tr th {\n",
              "        vertical-align: top;\n",
              "    }\n",
              "\n",
              "    .dataframe thead th {\n",
              "        text-align: right;\n",
              "    }\n",
              "</style>\n",
              "<table border=\"1\" class=\"dataframe\">\n",
              "  <thead>\n",
              "    <tr style=\"text-align: right;\">\n",
              "      <th></th>\n",
              "      <th>X</th>\n",
              "      <th>Yhat</th>\n",
              "      <th>Y</th>\n",
              "    </tr>\n",
              "  </thead>\n",
              "  <tbody>\n",
              "    <tr>\n",
              "      <th>0</th>\n",
              "      <td>1.5</td>\n",
              "      <td>16.844722</td>\n",
              "      <td>20</td>\n",
              "    </tr>\n",
              "    <tr>\n",
              "      <th>1</th>\n",
              "      <td>3.2</td>\n",
              "      <td>33.745575</td>\n",
              "      <td>27</td>\n",
              "    </tr>\n",
              "    <tr>\n",
              "      <th>2</th>\n",
              "      <td>7.4</td>\n",
              "      <td>75.500624</td>\n",
              "      <td>69</td>\n",
              "    </tr>\n",
              "    <tr>\n",
              "      <th>3</th>\n",
              "      <td>2.5</td>\n",
              "      <td>26.786400</td>\n",
              "      <td>30</td>\n",
              "    </tr>\n",
              "    <tr>\n",
              "      <th>4</th>\n",
              "      <td>5.9</td>\n",
              "      <td>60.588106</td>\n",
              "      <td>62</td>\n",
              "    </tr>\n",
              "    <tr>\n",
              "      <th>5</th>\n",
              "      <td>3.8</td>\n",
              "      <td>39.710582</td>\n",
              "      <td>35</td>\n",
              "    </tr>\n",
              "    <tr>\n",
              "      <th>6</th>\n",
              "      <td>1.9</td>\n",
              "      <td>20.821393</td>\n",
              "      <td>24</td>\n",
              "    </tr>\n",
              "  </tbody>\n",
              "</table>\n",
              "</div>"
            ],
            "text/plain": [
              "     X       Yhat   Y\n",
              "0  1.5  16.844722  20\n",
              "1  3.2  33.745575  27\n",
              "2  7.4  75.500624  69\n",
              "3  2.5  26.786400  30\n",
              "4  5.9  60.588106  62\n",
              "5  3.8  39.710582  35\n",
              "6  1.9  20.821393  24"
            ]
          },
          "execution_count": 27,
          "metadata": {},
          "output_type": "execute_result"
        }
      ],
      "source": [
        "P"
      ]
    },
    {
      "cell_type": "code",
      "execution_count": null,
      "id": "e4bf0449",
      "metadata": {
        "id": "e4bf0449",
        "outputId": "63399c60-ac70-4376-e0be-b21cc7848367"
      },
      "outputs": [
        {
          "data": {
            "text/plain": [
              "<Axes: xlabel='X', ylabel='Y'>"
            ]
          },
          "execution_count": 28,
          "metadata": {},
          "output_type": "execute_result"
        },
        {
          "data": {
            "image/png": "[encoded data removed]",
            "text/plain": [
              "<Figure size 640x480 with 1 Axes>"
            ]
          },
          "metadata": {},
          "output_type": "display_data"
        }
      ],
      "source": [
        "fig, ax = plt.subplots()\n",
        "sns.scatterplot(x=P['X'], y=P['Y'], ax=ax)\n",
        "sns.scatterplot(x=P['X'], y=P['Yhat'], ax=ax)\n",
        "sns.lineplot(x=P['X'], y=P['Yhat'], color='#BBB', ax=ax)"
      ]
    },
    {
      "cell_type": "markdown",
      "id": "c7a2482b",
      "metadata": {
        "id": "c7a2482b"
      },
      "source": [
        "## Step 4: Evaluation"
      ]
    },
    {
      "cell_type": "code",
      "execution_count": null,
      "id": "a41a2af9",
      "metadata": {
        "id": "a41a2af9",
        "outputId": "45e25ef2-9fcd-4ae2-fb60-9b9b68096c3d"
      },
      "outputs": [
        {
          "name": "stdout",
          "output_type": "stream",
          "text": [
            "R^2 :  0.9367661043365055\n",
            "MAE : 4.130879918502486\n",
            "RMSE: 4.5092043283688055\n"
          ]
        }
      ],
      "source": [
        "from sklearn.metrics import mean_absolute_error,r2_score,mean_squared_error\n",
        "\n",
        "print(\"R^2 : \", r2_score(Y_test, Y_pred))\n",
        "print(\"MAE :\", mean_absolute_error(Y_test, Y_pred))\n",
        "print(\"RMSE:\",np.sqrt(mean_squared_error(Y_test, Y_pred)))"
      ]
    },
    {
      "cell_type": "markdown",
      "id": "9e6aee21",
      "metadata": {
        "id": "9e6aee21"
      },
      "source": [
        "## Step 5: Cross Validation"
      ]
    },
    {
      "cell_type": "code",
      "execution_count": null,
      "id": "81d445e7",
      "metadata": {
        "id": "81d445e7",
        "outputId": "4390b729-3f5c-4488-9431-243ddf9a77db"
      },
      "outputs": [
        {
          "name": "stdout",
          "output_type": "stream",
          "text": [
            "[0.78626426 0.97891923 0.93182467 0.96604831 0.9273292 ]\n"
          ]
        }
      ],
      "source": [
        "from sklearn.model_selection import cross_val_score\n",
        "\n",
        "cv_results = cross_val_score(regressor, X, Y, cv=5)\n",
        "\n",
        "print(f\"{cv_results}\")"
      ]
    }
  ],
  "metadata": {
    "celltoolbar": "Slideshow",
    "kernelspec": {
      "display_name": "Python 3 (ipykernel)",
      "language": "python",
      "name": "python3"
    },
    "language_info": {
      "codemirror_mode": {
        "name": "ipython",
        "version": 3
      },
      "file_extension": ".py",
      "mimetype": "text/x-python",
      "name": "python",
      "nbconvert_exporter": "python",
      "pygments_lexer": "ipython3",
      "version": "3.11.6"
    },
    "colab": {
      "provenance": []
    }
  },
  "nbformat": 4,
  "nbformat_minor": 5
}